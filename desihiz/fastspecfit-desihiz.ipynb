{
 "cells": [
  {
   "cell_type": "markdown",
   "id": "ff829984-ee50-4993-84a6-36fd7936fe30",
   "metadata": {},
   "source": [
    "# FastSpecFit DESI Hiz\n",
    "\n",
    "Simple notebook which shows how to work with the `FastSpecFit/desihiz` catalogs."
   ]
  },
  {
   "cell_type": "code",
   "execution_count": 2,
   "id": "ed11f408-c5ab-4e4d-bece-bdfe9e63b506",
   "metadata": {
    "tags": []
   },
   "outputs": [],
   "source": [
    "import os\n",
    "import numpy as np\n",
    "import fitsio\n",
    "from glob import glob\n",
    "import matplotlib.pyplot as plt\n",
    "from astropy.table import Table\n",
    "\n",
    "from fastspecfit.io import read_fastspecfit\n",
    "from fastspecfit.util import TabulatedDESI\n",
    "cosmo = TabulatedDESI()\n",
    "\n",
    "from desiutil.log import get_logger\n",
    "log = get_logger()"
   ]
  },
  {
   "cell_type": "code",
   "execution_count": 3,
   "id": "3da1c15b-a884-4864-ade9-f3e409d56391",
   "metadata": {
    "tags": []
   },
   "outputs": [],
   "source": [
    "import seaborn as sns\n",
    "sns.set(context='talk', style='ticks', font_scale=1.2)\n",
    "%matplotlib inline"
   ]
  },
  {
   "cell_type": "code",
   "execution_count": 4,
   "id": "11fe4470-0012-4dac-b1a8-d22ab6dbd571",
   "metadata": {
    "tags": []
   },
   "outputs": [],
   "source": [
    "desi_root = os.getenv('DESI_ROOT')\n",
    "projectdir = os.path.join(desi_root, 'users', 'ioannis', 'desihiz')\n",
    "\n",
    "fspecdirs = {\n",
    "    'odin': desi_root+'/users/raichoor/laelbg/odin/v20240129/desi-odin.fits[SPECINFO]',\n",
    "    'clauds': desi_root+'/users/raichoor/laelbg/clauds/v20240129/desi-clauds.fits[SPECINFO]',\n",
    "    'suprime': desi_root+'/users/raichoor/laelbg/suprime/v20231120/desi-suprime.fits[SPECINFO]',\n",
    "    }\n",
    "\n",
    "fphotodirs = {\n",
    "    'odin': desi_root+'/users/raichoor/laelbg/odin/v20231120/desi-odin.fits[PHOTINFO]',\n",
    "    'clauds': desi_root+'/users/raichoor/laelbg/clauds/v20231120/desi-clauds.fits[PHOTV2INFO]',\n",
    "    'suprime': desi_root+'/users/raichoor/laelbg/suprime/v20231120/desi-suprime.fits[PHOTV2INFO]',\n",
    "    }"
   ]
  },
  {
   "cell_type": "code",
   "execution_count": 5,
   "id": "e9ef4f88-a876-4740-9286-e3ced30309fb",
   "metadata": {
    "tags": []
   },
   "outputs": [],
   "source": [
    "def parse_fphotodir(fphotodir):\n",
    "    # parse the extension name, if any\n",
    "    fphotoext = None\n",
    "    photodir = os.path.dirname(fphotodir)\n",
    "    photobase = os.path.basename(fphotodir)\n",
    "    if '[' in photobase and ']' in photobase:\n",
    "        try:\n",
    "            fphotoext = photobase[photobase.find('[')+1:photobase.find(']')]\n",
    "            fphotodir = os.path.join(photodir, photobase[:photobase.find('[')])\n",
    "        except:\n",
    "            pass\n",
    "    return fphotodir, fphotoext"
   ]
  },
  {
   "cell_type": "code",
   "execution_count": 36,
   "id": "20642624-4668-4688-ac3a-5345754524df",
   "metadata": {
    "tags": []
   },
   "outputs": [],
   "source": [
    "def read_desihiz(selection='odin', targetids=None, vi_quality_cut=3., vi_redshifts=False):\n",
    "    \"\"\"Read Anand's desihiz catalogs.\n",
    "    \n",
    "    vi_quality_cut is only used if vi_redshifts=True\n",
    "    \n",
    "    \"\"\"\n",
    "    fspecdir = fspecdirs[selection]\n",
    "    fphotodir = fphotodirs[selection]\n",
    "\n",
    "    fspecdir, fspecext = parse_fphotodir(fspecdir)\n",
    "    fphotobasedir, fphotoext = parse_fphotodir(fphotodir)\n",
    "\n",
    "    fphoto = Table(fitsio.read(fphotobasedir, ext=fphotoext))\n",
    "    log.info(f'Read {len(fphoto):,d} objects from {fphotobasedir}')\n",
    "\n",
    "    fspec = Table(fitsio.read(fspecdir, ext=fspecext))\n",
    "    log.info(f'Read {len(fspec):,d} objects from {fspecdir}')\n",
    "    assert(np.all(fspec['TARGETID'] == fphoto['TARGETID']))\n",
    "\n",
    "    if targetids:\n",
    "        I = np.where(np.isin(fspec['TARGETID'], np.array(','.split(targetids))))[0]\n",
    "        log.info(f'Trimming to {len(I):,d} specified TARGETIDs.')\n",
    "        fphoto = fphoto[I]\n",
    "        fspec = fspec[I]\n",
    "\n",
    "    if vi_redshifts:\n",
    "        #I = np.where(np.isfinite(fspec['VI_Z']) * (fspec['VI_QUALITY'] >= vi_quality_cut))[0]\n",
    "        I = np.where(np.isfinite(fspec['VI_Z']) * (fspec['VI_Z'] > 1e-3) * (fspec['VI_QUALITY'] >= vi_quality_cut))[0]\n",
    "        log.info(f'Trimming to {len(I):,d} objects with VI_Z>0.001 and VI_QUALITY>={vi_quality_cut}')\n",
    "        fphoto = fphoto[I]\n",
    "        fspec = fspec[I]\n",
    "\n",
    "    return fphoto, fspec"
   ]
  },
  {
   "cell_type": "code",
   "execution_count": 37,
   "id": "0ef3da67-dac4-4d71-9b50-5acc1218cd67",
   "metadata": {
    "tags": []
   },
   "outputs": [
    {
     "name": "stdout",
     "output_type": "stream",
     "text": [
      "INFO:4102741067.py:14:read_desihiz: Read 11,580 objects from /global/cfs/cdirs/desi/users/raichoor/laelbg/odin/v20231120/desi-odin.fits\n",
      "INFO:4102741067.py:17:read_desihiz: Read 11,580 objects from /global/cfs/cdirs/desi/users/raichoor/laelbg/odin/v20240129/desi-odin.fits\n",
      "INFO:4102741067.py:29:read_desihiz: Trimming to 7,471 objects with VI_Z>0.001 and VI_QUALITY>=3.0\n"
     ]
    },
    {
     "data": {
      "text/html": [
       "<div><i>Table length=7471</i>\n",
       "<table id=\"table139899769844544\" class=\"table-striped table-bordered table-condensed\">\n",
       "<thead><tr><th>TARGETID</th><th>VI</th><th>VI_Z</th><th>VI_SPECTYPE</th><th>VI_COMMENTS</th><th>COADDFN</th></tr></thead>\n",
       "<thead><tr><th>int64</th><th>bool</th><th>float32</th><th>str10</th><th>str450</th><th>str102</th></tr></thead>\n",
       "<tr><td>39089837390696448</td><td>True</td><td>3.123</td><td>GALAXY</td><td>LAE; single Lya line ; LAE</td><td>/global/cfs/cdirs/desi/users/raichoor/laelbg/iron/healpix/tileid82636-thru20220324-v2/coadd-27239.fits</td></tr>\n",
       "<tr><td>39089837390695089</td><td>True</td><td>3.125425</td><td>GALAXY</td><td>LAE; single strong Lya line ; LAE</td><td>/global/cfs/cdirs/desi/users/raichoor/laelbg/iron/healpix/tileid82636-thru20220324-v2/coadd-27239.fits</td></tr>\n",
       "<tr><td>39089837390695898</td><td>True</td><td>3.119</td><td>GALAXY</td><td>LAE; single strong Lya line ; LAE</td><td>/global/cfs/cdirs/desi/users/raichoor/laelbg/iron/healpix/tileid82636-thru20220324-v2/coadd-27239.fits</td></tr>\n",
       "<tr><td>39089837390696440</td><td>True</td><td>2.0819</td><td>QSO</td><td>QSO; Lya CIV HeII CIII] MgII lines</td><td>/global/cfs/cdirs/desi/users/raichoor/laelbg/iron/healpix/tileid82636-thru20220324-v2/coadd-27239.fits</td></tr>\n",
       "<tr><td>39089837390696436</td><td>True</td><td>3.13685</td><td>GALAXY</td><td>LAE; single strong Lya line</td><td>/global/cfs/cdirs/desi/users/raichoor/laelbg/iron/healpix/tileid82636-thru20220324-v2/coadd-27239.fits</td></tr>\n",
       "<tr><td>39089837390696427</td><td>True</td><td>3.1239</td><td>GALAXY</td><td>no significant feature</td><td>/global/cfs/cdirs/desi/users/raichoor/laelbg/iron/healpix/tileid82636-thru20220324-v2/coadd-27239.fits</td></tr>\n",
       "<tr><td>39089837390696431</td><td>True</td><td>3.1329</td><td>GALAXY</td><td>marginal detection at 5026A</td><td>/global/cfs/cdirs/desi/users/raichoor/laelbg/iron/healpix/tileid82636-thru20220324-v2/coadd-27239.fits</td></tr>\n",
       "<tr><td>39089837390696441</td><td>True</td><td>3.1525</td><td>GALAXY</td><td>LAE; narrow line Lya ; LAE; narrow line Lya ; LAE; narrow Lya</td><td>/global/cfs/cdirs/desi/users/raichoor/laelbg/iron/healpix/tileid82636-thru20220324-v2/coadd-27239.fits</td></tr>\n",
       "<tr><td>39089837390696435</td><td>True</td><td>3.152</td><td>GALAXY</td><td>no significant feature</td><td>/global/cfs/cdirs/desi/users/raichoor/laelbg/iron/healpix/tileid82636-thru20220324-v2/coadd-27239.fits</td></tr>\n",
       "<tr><td>39089837390697205</td><td>True</td><td>3.14515</td><td>GALAXY</td><td>LAE; single strong Lya line ; LAE</td><td>/global/cfs/cdirs/desi/users/raichoor/laelbg/iron/healpix/tileid82636-thru20220324-v2/coadd-27239.fits</td></tr>\n",
       "<tr><td>...</td><td>...</td><td>...</td><td>...</td><td>...</td><td>...</td></tr>\n",
       "<tr><td>39089837499749580</td><td>True</td><td>2.4593</td><td>GALAXY</td><td>LAE ; LAE</td><td>/global/cfs/cdirs/desi/users/raichoor/laelbg/daily/healpix/tertiary26-thru20230416-v2/coadd-27348.fits</td></tr>\n",
       "<tr><td>39089837499752996</td><td>True</td><td>3.1208</td><td>GALAXY</td><td>LAE ; LAE</td><td>/global/cfs/cdirs/desi/users/raichoor/laelbg/daily/healpix/tertiary26-thru20230416-v2/coadd-27348.fits</td></tr>\n",
       "<tr><td>39089837499751764</td><td>True</td><td>2.41915</td><td>GALAXY</td><td>LAE ; LAE</td><td>/global/cfs/cdirs/desi/users/raichoor/laelbg/daily/healpix/tertiary26-thru20230416-v2/coadd-27348.fits</td></tr>\n",
       "<tr><td>39089837499753003</td><td>True</td><td>0.2967</td><td>GALAXY</td><td>low z star forming galaxy ; low z star forming galaxy ; [Ne III] emitter; Strong [O II] and [O III] lines; Hydrogen Balmer lines</td><td>/global/cfs/cdirs/desi/users/raichoor/laelbg/daily/healpix/tertiary26-thru20230416-v2/coadd-27348.fits</td></tr>\n",
       "<tr><td>39089837499751963</td><td>True</td><td>2.4349</td><td>GALAXY</td><td>double peak LAE ; double peak LAE</td><td>/global/cfs/cdirs/desi/users/raichoor/laelbg/daily/healpix/tertiary26-thru20230416-v2/coadd-27348.fits</td></tr>\n",
       "<tr><td>39089837499752016</td><td>True</td><td>2.4646</td><td>GALAXY</td><td></td><td>/global/cfs/cdirs/desi/users/raichoor/laelbg/daily/healpix/tertiary26-thru20230416-v2/coadd-27348.fits</td></tr>\n",
       "<tr><td>39089837499749575</td><td>True</td><td>2.46485</td><td>GALAXY</td><td>LAE ; LAE</td><td>/global/cfs/cdirs/desi/users/raichoor/laelbg/daily/healpix/tertiary26-thru20230416-v2/coadd-27348.fits</td></tr>\n",
       "<tr><td>39089837499753011</td><td>True</td><td>3.1390667</td><td>GALAXY</td><td>LAE ; LAE ; LAE; narrow Lya</td><td>/global/cfs/cdirs/desi/users/raichoor/laelbg/daily/healpix/tertiary26-thru20230416-v2/coadd-27348.fits</td></tr>\n",
       "<tr><td>39089837499750750</td><td>True</td><td>2.47235</td><td>GALAXY</td><td>LAE ; LAE</td><td>/global/cfs/cdirs/desi/users/raichoor/laelbg/daily/healpix/tertiary26-thru20230416-v2/coadd-27348.fits</td></tr>\n",
       "<tr><td>39089837499752138</td><td>True</td><td>2.45795</td><td>GALAXY</td><td>LAE ; LAE</td><td>/global/cfs/cdirs/desi/users/raichoor/laelbg/daily/healpix/tertiary26-thru20230416-v2/coadd-27348.fits</td></tr>\n",
       "</table></div>"
      ],
      "text/plain": [
       "<Table length=7471>\n",
       "     TARGETID     ...\n",
       "      int64       ...\n",
       "----------------- ...\n",
       "39089837390696448 ...\n",
       "39089837390695089 ...\n",
       "39089837390695898 ...\n",
       "39089837390696440 ...\n",
       "39089837390696436 ...\n",
       "39089837390696427 ...\n",
       "39089837390696431 ...\n",
       "39089837390696441 ...\n",
       "39089837390696435 ...\n",
       "39089837390697205 ...\n",
       "              ... ...\n",
       "39089837499749580 ...\n",
       "39089837499752996 ...\n",
       "39089837499751764 ...\n",
       "39089837499753003 ...\n",
       "39089837499751963 ...\n",
       "39089837499752016 ...\n",
       "39089837499749575 ...\n",
       "39089837499753011 ...\n",
       "39089837499750750 ...\n",
       "39089837499752138 ..."
      ]
     },
     "execution_count": 37,
     "metadata": {},
     "output_type": "execute_result"
    }
   ],
   "source": [
    "selection = 'odin'\n",
    "fphoto, fspec = read_desihiz(selection=selection, vi_redshifts=True, vi_quality_cut=3.)\n",
    "fspec['TARGETID', 'VI', 'VI_Z', 'VI_SPECTYPE', 'VI_COMMENTS', 'COADDFN']\n",
    "#fspec.columns"
   ]
  },
  {
   "cell_type": "code",
   "execution_count": 38,
   "id": "e0c73190-9a74-4a4a-9414-ef90d1edd1e5",
   "metadata": {
    "tags": []
   },
   "outputs": [
    {
     "name": "stdout",
     "output_type": "stream",
     "text": [
      "INFO:io.py:1848:read_fastspecfit: Read 7,471 object(s) from /global/cfs/cdirs/desi/users/ioannis/desihiz/odin/fastspec-vi-odin.fits\n"
     ]
    }
   ],
   "source": [
    "fast, meta, _, _ = read_fastspecfit(f'/global/cfs/cdirs/desi/users/ioannis/desihiz/{selection}/fastspec-vi-{selection}.fits')\n",
    "#meta"
   ]
  },
  {
   "cell_type": "code",
   "execution_count": 40,
   "id": "be3ea0ff-65c9-4300-aeb1-f322eed7de33",
   "metadata": {
    "tags": []
   },
   "outputs": [
    {
     "data": {
      "image/png": "[encoded data removed]",
      "text/plain": [
       "<Figure size 640x480 with 1 Axes>"
      ]
     },
     "metadata": {},
     "output_type": "display_data"
    }
   ],
   "source": [
    "I = fast['LYALPHA_FLUX'] * np.sqrt(fast['LYALPHA_FLUX_IVAR']) > 2.\n",
    "plt.scatter(fast['Z'][I], fast['LYALPHA_FLUX'][I])\n",
    "plt.yscale('log')"
   ]
  },
  {
   "cell_type": "code",
   "execution_count": null,
   "id": "4ac698d9-c2fa-4167-9c53-9646f81a6dba",
   "metadata": {
    "tags": []
   },
   "outputs": [],
   "source": [
    "def read_data():\n",
    "    mergefile = os.path.join(fastdir, 'fastspec-vi-tertiary26.fits')\n",
    "    fast, meta, _, _ = read_fastspecfit(mergefile)\n",
    "\n",
    "    vifile = os.path.join(fastdir, 'VI_dey_Subaru.fits.gz')\n",
    "    vi = Table(fitsio.read(vifile))\n",
    "    #iqso = ['qso' in comment.lower() or 'agn' in comment.lower() for comment in vi['VI_COMMENT']]\n",
    "    #I = np.logical_not(iqso) * (vi['VI_QUALITY'] >=3) * (vi['VI_Z'] > 2.4) * (vi['VI_Z'] < 3.5)\n",
    "    #vi = vi[I]\n",
    "    vi.rename_column('VI_TARGETID', 'TARGETID')\n",
    "    \n",
    "    # trim out the LBGs\n",
    "    #ilae = np.where(['lae' in comment.lower() for comment in vi['VI_COMMENT']])[0]\n",
    "    #vi = vi[ilae]\n",
    "    \n",
    "    I = np.hstack([np.where(vi['TARGETID'] == tid)[0] for tid in fast['TARGETID']])\n",
    "    vi = vi[I]\n",
    "    #I = np.hstack([np.where(fast['TARGETID'] == tid)[0] for tid in vi['TARGETID']])\n",
    "    #fast = fast[I]\n",
    "    #meta = meta[I]\n",
    "    \n",
    "    fast['LYALPHA_LUM'] = fast['LYALPHA_FLUX'] * 1e-17 * 4 * np.pi * (cosmo.luminosity_distance(fast['Z']) * 3.0856776e+24)**2\n",
    "    \n",
    "    return vi, meta, fast\n",
    "\n",
    "vi, meta, fast = read_data()\n",
    "vi"
   ]
  },
  {
   "cell_type": "code",
   "execution_count": null,
   "id": "65ebc92e-e3b4-4564-909a-6ee18e6476e2",
   "metadata": {},
   "outputs": [],
   "source": [
    "print(set(meta['HEALPIX']))\n",
    "meta[meta['HEALPIX'] == 27245]['TARGETID'].data"
   ]
  },
  {
   "cell_type": "code",
   "execution_count": null,
   "id": "bd7fc6e6-be44-4d3d-a969-7b9761c5c13a",
   "metadata": {},
   "outputs": [],
   "source": [
    "meta[np.isin(meta['TARGETID'], [39089837499746048, 39089837499745286])]['TARGETID', 'Z']"
   ]
  },
  {
   "cell_type": "code",
   "execution_count": null,
   "id": "ddb9641b-c8e1-480b-8559-873de8493bb8",
   "metadata": {},
   "outputs": [],
   "source": [
    "meta['Z'].min()"
   ]
  },
  {
   "cell_type": "code",
   "execution_count": null,
   "id": "8a32de48-7151-41a1-bb90-af03c153edcb",
   "metadata": {
    "tags": []
   },
   "outputs": [],
   "source": [
    "plt.scatter(meta['RA'], meta['DEC'], s=1)"
   ]
  },
  {
   "cell_type": "code",
   "execution_count": null,
   "id": "0e515225-a158-4702-a5af-52ed0679ff3f",
   "metadata": {
    "tags": []
   },
   "outputs": [],
   "source": [
    "_ = plt.hist(meta['Z'], bins=100)"
   ]
  },
  {
   "cell_type": "code",
   "execution_count": null,
   "id": "7fc1aef6-82d8-4b34-b322-4506261a3b6a",
   "metadata": {
    "tags": []
   },
   "outputs": [],
   "source": [
    "_ = plt.hist(fast['LYALPHA_FLUX'], bins=100, range=(-10, 10))\n",
    "#plt.xlim(-100, 1000)"
   ]
  },
  {
   "cell_type": "code",
   "execution_count": null,
   "id": "aecbbc2d-8d1e-43d1-97a7-277a3c0cf665",
   "metadata": {
    "tags": []
   },
   "outputs": [],
   "source": [
    "I = ['LBG' in comment for comment in vi['VI_COMMENT']]\n",
    "vi[I]"
   ]
  },
  {
   "cell_type": "code",
   "execution_count": null,
   "id": "528c19b6-4f5a-41ee-baa5-21bacf9231bc",
   "metadata": {
    "tags": []
   },
   "outputs": [],
   "source": [
    "I = fast['LYALPHA_LUM'] > 0\n",
    "_ = plt.hist(np.log10(fast['LYALPHA_LUM'][I]), bins=100)"
   ]
  },
  {
   "cell_type": "code",
   "execution_count": null,
   "id": "a562ad97-3ff7-4c45-ae20-426a3fbb6468",
   "metadata": {
    "tags": []
   },
   "outputs": [],
   "source": [
    "#vi[fast['LYALPHA_FLUX'] < 0]['TARGETID', 'VI_COMMENT']"
   ]
  },
  {
   "cell_type": "code",
   "execution_count": null,
   "id": "1af08ab3-b357-4992-ad8e-279acca1f2a7",
   "metadata": {
    "tags": []
   },
   "outputs": [],
   "source": [
    "fast[fast['LYALPHA_FLUX'] == 0.]['HEALPIX', 'TARGETID', 'LYALPHA_FLUX', 'LYALPHA_EW']"
   ]
  },
  {
   "cell_type": "code",
   "execution_count": null,
   "id": "25c806ea-c4fc-4bad-aff4-023c1cf47692",
   "metadata": {
    "tags": []
   },
   "outputs": [],
   "source": [
    "plt.scatter(fast['Z'], fast['LYALPHA_LUM'])\n",
    "plt.yscale('log')\n",
    "#plt.ylim(-100, 500)"
   ]
  },
  {
   "cell_type": "code",
   "execution_count": null,
   "id": "c34ae5a1-9d3e-482c-9189-eedf85cfd8cc",
   "metadata": {
    "tags": []
   },
   "outputs": [],
   "source": [
    "minmax = np.array([3600, 9800, 0.8]) \n",
    "minmax / (1 + meta['Z'].min()), minmax / (1+meta['Z'].max())\n",
    "minmax / (1 + 2.4), minmax / (1+3.5)"
   ]
  },
  {
   "cell_type": "code",
   "execution_count": null,
   "id": "d47475dd-bf2b-41cf-9440-7fc044a3c0eb",
   "metadata": {
    "tags": []
   },
   "outputs": [],
   "source": [
    "minwave, maxwave, dwave = 920., 2500., 0.05\n",
    "gridwave = np.arange(minwave, maxwave+dwave, dwave)\n",
    "gridwave"
   ]
  },
  {
   "cell_type": "markdown",
   "id": "1244bbb1-a745-46d4-8a6f-5bf202745de3",
   "metadata": {},
   "source": [
    "Stack everything"
   ]
  },
  {
   "cell_type": "code",
   "execution_count": null,
   "id": "ded15cbc-3325-4ff8-8b1a-c6075481231e",
   "metadata": {
    "tags": []
   },
   "outputs": [],
   "source": [
    "allspec = []\n",
    "for healpix in sorted(set(meta['HEALPIX'])):\n",
    "    mm = meta[meta['HEALPIX'] == healpix]    \n",
    "    specfile = os.path.join(datadir, f'coadd-{healpix}.fits')\n",
    "    spec = read_spectra(specfile).select(targets=mm['TARGETID'])\n",
    "    allspec.append(spec)\n",
    "allspec = desispec.spectra.stack(allspec)"
   ]
  },
  {
   "cell_type": "code",
   "execution_count": null,
   "id": "63d179c9-0c6c-4cfb-b1d7-241c95a42839",
   "metadata": {
    "tags": []
   },
   "outputs": [],
   "source": [
    "srt = np.hstack([np.where(meta['TARGETID'] == tid)[0] for tid in allspec.fibermap['TARGETID']])\n",
    "fast = fast[srt]\n",
    "meta = meta[srt]\n",
    "assert(np.all(meta['TARGETID'] == allspec.fibermap['TARGETID']))"
   ]
  },
  {
   "cell_type": "code",
   "execution_count": null,
   "id": "2c5347a5-6961-474e-8be4-70c4e2110cb9",
   "metadata": {
    "tags": []
   },
   "outputs": [],
   "source": [
    "(flux, ivar), wave = stack_spectra(allspec, redshift=meta['Z'], norm_method='flux-window', #\"mean\", \"median\", \"flux-window\"\n",
    "                                   norm_flux_window=[1500, 1550], output_wave_grid=gridwave,\n",
    "                                   resample_method='linear', # \"linear\", \"sn-cons\", \"flux-cons\"\n",
    "                                   stack_method='ivar-weighted-mean', # median , mean\n",
    "                                   n_workers=24, bootstrap=True)"
   ]
  },
  {
   "cell_type": "code",
   "execution_count": null,
   "id": "ba868978-6406-42e7-83c4-d1c486dec57e",
   "metadata": {
    "tags": []
   },
   "outputs": [],
   "source": [
    "I = (wave > 1100) * (wave < 1350)\n",
    "plt.plot(wave[I], flux[I])"
   ]
  },
  {
   "cell_type": "code",
   "execution_count": null,
   "id": "135eac1e-8970-41c4-a2d3-b5a5ef013d0d",
   "metadata": {
    "tags": []
   },
   "outputs": [],
   "source": [
    "plt.plot(wave, flux)"
   ]
  },
  {
   "cell_type": "code",
   "execution_count": null,
   "id": "402dd158-d3a3-4c9d-899a-43514b00983e",
   "metadata": {},
   "outputs": [],
   "source": []
  }
 ],
 "metadata": {
  "kernelspec": {
   "display_name": "FastSpecFit",
   "language": "python",
   "name": "fastspecfit"
  },
  "language_info": {
   "codemirror_mode": {
    "name": "ipython",
    "version": 3
   },
   "file_extension": ".py",
   "mimetype": "text/x-python",
   "name": "python",
   "nbconvert_exporter": "python",
   "pygments_lexer": "ipython3",
   "version": "3.10.14"
  }
 },
 "nbformat": 4,
 "nbformat_minor": 5
}
