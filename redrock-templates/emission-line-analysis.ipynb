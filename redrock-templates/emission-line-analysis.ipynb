{
 "cells": [
  {
   "cell_type": "markdown",
   "id": "00389bb6-e86d-4ee4-bf99-3f0cc0264f5a",
   "metadata": {},
   "source": [
    "### GMMs of line-emission"
   ]
  },
  {
   "cell_type": "code",
   "execution_count": 1,
   "id": "aa54396c-81dc-4555-94e9-41e564604b58",
   "metadata": {
    "tags": []
   },
   "outputs": [],
   "source": [
    "import os\n",
    "import numpy as np\n",
    "import fitsio\n",
    "from astropy.table import Table"
   ]
  },
  {
   "cell_type": "code",
   "execution_count": 63,
   "id": "bf73c5dd-5198-49b5-8d89-d03c3349b56f",
   "metadata": {
    "tags": []
   },
   "outputs": [],
   "source": [
    "from fastspecfit.io import FLUXNORM\n",
    "from fastspecfit.util import TabulatedDESI\n",
    "cosmo = TabulatedDESI()"
   ]
  },
  {
   "cell_type": "code",
   "execution_count": 38,
   "id": "1a812114-f548-4971-aecc-b9e0f3ee291a",
   "metadata": {
    "tags": []
   },
   "outputs": [],
   "source": [
    "import seaborn as sns\n",
    "import matplotlib.pyplot as plt\n",
    "%matplotlib inline"
   ]
  },
  {
   "cell_type": "markdown",
   "id": "b7cffe31-f5ba-4089-982e-7117865b431f",
   "metadata": {},
   "source": [
    "### Choose the lines of interest\n",
    "\n",
    "Limit ourselves to the \"major\" emission lines."
   ]
  },
  {
   "cell_type": "code",
   "execution_count": 2,
   "id": "f1c12683-149b-4d77-8970-d69ceffdba0a",
   "metadata": {
    "tags": []
   },
   "outputs": [
    {
     "name": "stdout",
     "output_type": "stream",
     "text": [
      "13\n"
     ]
    },
    {
     "data": {
      "text/html": [
       "<div><i>Table length=13</i>\n",
       "<table id=\"table139664279836112\" class=\"table-striped table-bordered table-condensed\">\n",
       "<thead><tr><th>name</th><th>restwave</th><th>amp</th><th>isbalmer</th><th>ishelium</th><th>isbroad</th><th>nicename</th><th>plotgroup</th></tr></thead>\n",
       "<thead><tr><th>str15</th><th>float64</th><th>float32</th><th>bool</th><th>bool</th><th>bool</th><th>str60</th><th>str32</th></tr></thead>\n",
       "<tr><td>lyalpha</td><td>1215.67</td><td>1.0</td><td>False</td><td>False</td><td>True</td><td>Ly$\\alpha$</td><td>lya</td></tr>\n",
       "<tr><td>mgii_2796</td><td>2796.3511</td><td>1.0</td><td>False</td><td>False</td><td>True</td><td>MgII-$\\lambda\\lambda$2796,2803</td><td>mgii_2796_2803</td></tr>\n",
       "<tr><td>mgii_2803</td><td>2803.5324</td><td>1.0</td><td>False</td><td>False</td><td>True</td><td>MgII-$\\lambda\\lambda$2796,2803</td><td>mgii_2796_2803</td></tr>\n",
       "<tr><td>oii_3726</td><td>3727.0919</td><td>1.0</td><td>False</td><td>False</td><td>False</td><td>[OII]-$\\lambda\\lambda$3726,29</td><td>oii_3726_29</td></tr>\n",
       "<tr><td>oii_3729</td><td>3729.875</td><td>1.0</td><td>False</td><td>False</td><td>False</td><td>[OII]-$\\lambda\\lambda$3726,29</td><td>oii_3726_29</td></tr>\n",
       "<tr><td>neiii_3869</td><td>3869.8611</td><td>1.0</td><td>False</td><td>False</td><td>False</td><td>[NeIII]-$\\lambda$3869+H6</td><td>neiii_3869_h6</td></tr>\n",
       "<tr><td>hgamma</td><td>4341.684</td><td>1.0</td><td>True</td><td>False</td><td>False</td><td>H$\\gamma$-$\\lambda$4340+[OIII]-$\\lambda$4363</td><td>hgamma_oiii_4363</td></tr>\n",
       "<tr><td>hbeta</td><td>4862.683</td><td>1.0</td><td>True</td><td>False</td><td>False</td><td>H$\\beta$-$\\lambda$4861</td><td>hbeta</td></tr>\n",
       "<tr><td>oiii_4959</td><td>4960.2937</td><td>1.0</td><td>False</td><td>False</td><td>False</td><td>[OIII]-$\\lambda\\lambda$4959,5007</td><td>oiii_doublet</td></tr>\n",
       "<tr><td>oiii_5007</td><td>5008.2383</td><td>1.0</td><td>False</td><td>False</td><td>False</td><td>[OIII]-$\\lambda\\lambda$4959,5007</td><td>oiii_doublet</td></tr>\n",
       "<tr><td>halpha</td><td>6564.613</td><td>1.0</td><td>True</td><td>False</td><td>False</td><td>H$\\alpha$+[NII]-$\\lambda\\lambda$6548,84</td><td>halpha_nii_6548_48</td></tr>\n",
       "<tr><td>sii_6716</td><td>6718.2913</td><td>1.0</td><td>False</td><td>False</td><td>False</td><td>[SII]-$\\lambda\\lambda$6716,31</td><td>sii_6716_31</td></tr>\n",
       "<tr><td>sii_6731</td><td>6732.6705</td><td>1.0</td><td>False</td><td>False</td><td>False</td><td>[SII]-$\\lambda\\lambda$6716,31</td><td>sii_6716_31</td></tr>\n",
       "</table></div>"
      ],
      "text/plain": [
       "<Table length=13>\n",
       "   name     restwave ...     plotgroup     \n",
       "  str15     float64  ...       str32       \n",
       "---------- --------- ... ------------------\n",
       "   lyalpha   1215.67 ...                lya\n",
       " mgii_2796 2796.3511 ...     mgii_2796_2803\n",
       " mgii_2803 2803.5324 ...     mgii_2796_2803\n",
       "  oii_3726 3727.0919 ...        oii_3726_29\n",
       "  oii_3729  3729.875 ...        oii_3726_29\n",
       "neiii_3869 3869.8611 ...      neiii_3869_h6\n",
       "    hgamma  4341.684 ...   hgamma_oiii_4363\n",
       "     hbeta  4862.683 ...              hbeta\n",
       " oiii_4959 4960.2937 ...       oiii_doublet\n",
       " oiii_5007 5008.2383 ...       oiii_doublet\n",
       "    halpha  6564.613 ... halpha_nii_6548_48\n",
       "  sii_6716 6718.2913 ...        sii_6716_31\n",
       "  sii_6731 6732.6705 ...        sii_6716_31"
      ]
     },
     "execution_count": 2,
     "metadata": {},
     "output_type": "execute_result"
    }
   ],
   "source": [
    "from importlib import resources\n",
    "emlinesfile = resources.files('fastspecfit').joinpath('data/emlines.ecsv')\n",
    "emlines = Table.read(emlinesfile)\n",
    "emlines = emlines[emlines['amp'] > 0.1]\n",
    "I = np.logical_or.reduce((emlines['name'] == 'lyalpha', emlines['name'] == 'mgii_2796', \n",
    "                          emlines['name'] == 'mgii_2803', emlines['isbroad'] == False))\n",
    "emlines = emlines[I]\n",
    "print(len(emlines))\n",
    "emlines"
   ]
  },
  {
   "cell_type": "code",
   "execution_count": 3,
   "id": "eff92b95-fb68-473d-9caa-2976c2169a56",
   "metadata": {
    "tags": []
   },
   "outputs": [
    {
     "data": {
      "text/plain": [
       "dict_keys(['imf', 'vdisp_nominal', 'templateinfo', 'templatewave', 'templateflux', 'templateflux_nomvdisp', 'templateflux_nolines', 'templateflux_nolines_nomvdisp', 'vdispflux', 'vdispwave', 'vdisp', 'vdisp_nominal_indx', 'linefluxes', 'linewaves'])"
      ]
     },
     "execution_count": 3,
     "metadata": {},
     "output_type": "execute_result"
    }
   ],
   "source": [
    "from fastspecfit.io import cache_templates, get_templates_filename\n",
    "templatefile = get_templates_filename()\n",
    "templatecache = cache_templates(read_linefluxes=True)\n",
    "templatecache.keys()\n",
    "#F = fitsio.FITS(templatefile)\n",
    "#F"
   ]
  },
  {
   "cell_type": "code",
   "execution_count": 46,
   "id": "794feb0d-fb21-43d6-af96-d8d845292f8a",
   "metadata": {},
   "outputs": [
    {
     "name": "stdout",
     "output_type": "stream",
     "text": [
      "lyalpha    1215.67 1215.67\n",
      "mgii_2796  2796.35 2796.40\n",
      "mgii_2803  2803.53 2803.58\n",
      "oii_3726   3727.09 3727.12\n",
      "oii_3729   3729.88 3730.12\n",
      "neiii_3869 3869.86 3869.92\n",
      "hgamma     4341.68 4341.75\n",
      "hbeta      4862.68 4862.76\n",
      "oiii_4959  4960.29 4960.37\n",
      "oiii_5007  5008.24 5008.31\n",
      "halpha     6564.61 6564.72\n",
      "sii_6716   6718.29 6718.40\n",
      "sii_6731   6732.67 6732.78\n"
     ]
    }
   ],
   "source": [
    "def get_template_lineindex():\n",
    "    I = []\n",
    "    for emline in emlines:\n",
    "        if emline['name'] == 'nev_3346':\n",
    "            # [NeV] 3346 is not in the FSPS templates; they have [NeIII] 3343, which we do not; so skip it\n",
    "            continue\n",
    "        ii = np.argmin(np.abs(emline['restwave'] - templatecache['linewaves']))\n",
    "        I.append(ii)\n",
    "        print(f'{emline[\"name\"]:10s} {emline[\"restwave\"]:.2f} {templatecache[\"linewaves\"][ii]:.2f}')\n",
    "    I = np.array(I)\n",
    "    return I\n",
    "\n",
    "template_lineindex = get_template_lineindex()"
   ]
  },
  {
   "cell_type": "code",
   "execution_count": 13,
   "id": "586057c4-d369-4fe8-924e-d6752766afb5",
   "metadata": {
    "tags": []
   },
   "outputs": [],
   "source": [
    "LINEFLUXCOLS = [f'{emline.upper()}_FLUX' for emline in emlines['name']]"
   ]
  },
  {
   "cell_type": "markdown",
   "id": "b03cb8dd-ba93-4c97-978e-bf12359e975a",
   "metadata": {},
   "source": [
    "### Read the data\n",
    "\n",
    "Read the parent sample used for template-building, pull out the columns of the lines we care about (and some additional columns), and zero out lines which are not detected above a minimum signal-to-noise ratio."
   ]
  },
  {
   "cell_type": "code",
   "execution_count": 8,
   "id": "7de3b261-b862-4ed2-905f-b7db1b87abbd",
   "metadata": {
    "tags": []
   },
   "outputs": [],
   "source": [
    "ff = '/global/cfs/cdirs/desicollab/users/ioannis/fastspecfit/redrock-templates/stacks/parent-BGS.fits'\n",
    "tt = Table(fitsio.read(ff, 'FASTSPEC'))\n",
    "mm = Table(fitsio.read(ff, 'METADATA'))"
   ]
  },
  {
   "cell_type": "code",
   "execution_count": 12,
   "id": "58f70685-c432-422b-b823-81561f909f50",
   "metadata": {
    "tags": []
   },
   "outputs": [],
   "source": [
    "#tt['FLUX']"
   ]
  },
  {
   "cell_type": "code",
   "execution_count": 40,
   "id": "bd430c42-cbe6-4b8d-a7b1-76d3cd65acc5",
   "metadata": {
    "tags": []
   },
   "outputs": [],
   "source": [
    "def read_data():\n",
    "    ff = '/global/cfs/cdirs/desicollab/users/ioannis/fastspecfit/redrock-templates/stacks/parent-BGS.fits'\n",
    "    tt = Table(fitsio.read(ff, 'FASTSPEC'))\n",
    "    #mm = Table(fitsio.read(ff, 'METADATA'))\n",
    "    \n",
    "    morecols = ['SURVEY', 'PROGRAM', 'HEALPIX', 'TARGETID', 'Z', 'LOGMSTAR', 'FLUX_SYNTH_PHOTMODEL_R', 'COEFF']\n",
    "    \n",
    "    lineivarcols = [f'{emline.upper()}_FLUX_IVAR' for emline in emlines['name']]\n",
    "    allcols = morecols + LINEFLUXCOLS\n",
    "    \n",
    "    jj = tt[allcols]\n",
    "    for fluxcol, ivarcol in zip(LINEFLUXCOLS, lineivarcols):\n",
    "        L = tt[fluxcol] * np.sqrt(tt[ivarcol]) < 5.\n",
    "        if np.any(L):\n",
    "            jj[fluxcol][L] = 0.\n",
    "            \n",
    "    jj['DLUM'] = cosmo.luminosity_distance(jj['Z'])\n",
    "            \n",
    "    return jj    "
   ]
  },
  {
   "cell_type": "code",
   "execution_count": 41,
   "id": "03117ff1-7924-46df-ac72-9bbd665e8e51",
   "metadata": {
    "tags": []
   },
   "outputs": [
    {
     "data": {
      "text/html": [
       "<div><i>Table length=239132</i>\n",
       "<table id=\"table139664145360944\" class=\"table-striped table-bordered table-condensed\">\n",
       "<thead><tr><th>SURVEY</th><th>PROGRAM</th><th>HEALPIX</th><th>TARGETID</th><th>Z</th><th>LOGMSTAR</th><th>FLUX_SYNTH_PHOTMODEL_R</th><th>COEFF</th><th>LYALPHA_FLUX</th><th>MGII_2796_FLUX</th><th>MGII_2803_FLUX</th><th>OII_3726_FLUX</th><th>OII_3729_FLUX</th><th>NEIII_3869_FLUX</th><th>HGAMMA_FLUX</th><th>HBETA_FLUX</th><th>OIII_4959_FLUX</th><th>OIII_5007_FLUX</th><th>HALPHA_FLUX</th><th>SII_6716_FLUX</th><th>SII_6731_FLUX</th><th>DLUM</th></tr></thead>\n",
       "<thead><tr><th>str3</th><th>str6</th><th>int32</th><th>int64</th><th>float64</th><th>float32</th><th>float32</th><th>float32[40]</th><th>float32</th><th>float32</th><th>float32</th><th>float32</th><th>float32</th><th>float32</th><th>float32</th><th>float32</th><th>float32</th><th>float32</th><th>float32</th><th>float32</th><th>float32</th><th>float64</th></tr></thead>\n",
       "<tr><td>sv3</td><td>bright</td><td>25915</td><td>39627733927462296</td><td>0.21160522322111827</td><td>9.713437</td><td>15.35273</td><td>0.0 .. 0.0</td><td>0.0</td><td>0.0</td><td>0.0</td><td>27.292267</td><td>34.614563</td><td>0.0</td><td>0.0</td><td>25.903568</td><td>0.0</td><td>19.48399</td><td>74.561516</td><td>17.749792</td><td>11.968279</td><td>729.0171449989449</td></tr>\n",
       "<tr><td>sv3</td><td>bright</td><td>25914</td><td>39627733927462346</td><td>0.20831648335368</td><td>10.107794</td><td>17.623062</td><td>0.00037025404 .. 0.0</td><td>0.0</td><td>0.0</td><td>0.0</td><td>0.0</td><td>0.0</td><td>0.0</td><td>0.0</td><td>0.0</td><td>0.0</td><td>0.0</td><td>21.83935</td><td>9.967945</td><td>0.0</td><td>716.3537875485354</td></tr>\n",
       "<tr><td>sv3</td><td>bright</td><td>25915</td><td>39627733927463205</td><td>0.2731793132075421</td><td>10.084076</td><td>8.856319</td><td>0.0015024577 .. 0.0</td><td>0.0</td><td>0.0</td><td>0.0</td><td>23.896305</td><td>30.457218</td><td>0.0</td><td>0.0</td><td>24.036009</td><td>0.0</td><td>18.146423</td><td>92.442085</td><td>19.757685</td><td>13.472651</td><td>973.0445379983363</td></tr>\n",
       "<tr><td>sv3</td><td>bright</td><td>25915</td><td>39627733927463584</td><td>0.18493751813414697</td><td>10.438245</td><td>47.154266</td><td>6.494362e-05 .. 0.0</td><td>0.0</td><td>0.0</td><td>0.0</td><td>0.0</td><td>0.0</td><td>0.0</td><td>0.0</td><td>0.0</td><td>0.0</td><td>0.0</td><td>0.0</td><td>0.0</td><td>0.0</td><td>627.4557562989022</td></tr>\n",
       "<tr><td>sv3</td><td>bright</td><td>25915</td><td>39627733927463809</td><td>0.18570904385178735</td><td>10.920659</td><td>63.91824</td><td>0.0012703007 .. 0.0</td><td>0.0</td><td>0.0</td><td>0.0</td><td>0.0</td><td>0.0</td><td>0.0</td><td>0.0</td><td>0.0</td><td>0.0</td><td>0.0</td><td>16.641716</td><td>0.0</td><td>0.0</td><td>630.3577046450698</td></tr>\n",
       "<tr><td>sv3</td><td>bright</td><td>25915</td><td>39627733927464298</td><td>0.3122080927766551</td><td>10.363598</td><td>12.468832</td><td>0.00032861988 .. 0.0</td><td>0.0</td><td>0.0</td><td>0.0</td><td>0.0</td><td>0.0</td><td>0.0</td><td>0.0</td><td>0.0</td><td>0.0</td><td>0.0</td><td>25.87249</td><td>0.0</td><td>0.0</td><td>1134.24851716162</td></tr>\n",
       "<tr><td>sv3</td><td>bright</td><td>25915</td><td>39627733927464616</td><td>0.05429547129868816</td><td>10.647275</td><td>250.29799</td><td>0.0 .. 0.0</td><td>0.0</td><td>0.0</td><td>0.0</td><td>0.0</td><td>0.0</td><td>0.0</td><td>0.0</td><td>0.0</td><td>0.0</td><td>0.0</td><td>27.120384</td><td>15.267055</td><td>10.992665</td><td>169.38671998440387</td></tr>\n",
       "<tr><td>sv3</td><td>bright</td><td>25915</td><td>39627733927464793</td><td>0.2662350306119081</td><td>10.747855</td><td>20.83333</td><td>0.00041530235 .. 0.0</td><td>0.0</td><td>0.0</td><td>0.0</td><td>0.0</td><td>0.0</td><td>0.0</td><td>0.0</td><td>0.0</td><td>0.0</td><td>0.0</td><td>0.0</td><td>0.0</td><td>0.0</td><td>944.8804157147033</td></tr>\n",
       "<tr><td>sv3</td><td>bright</td><td>25915</td><td>39627733927464814</td><td>0.5381649004009763</td><td>11.071679</td><td>15.406128</td><td>0.0 .. 0.0</td><td>0.0</td><td>0.0</td><td>0.0</td><td>0.0</td><td>0.0</td><td>0.0</td><td>0.0</td><td>9.981492</td><td>0.0</td><td>0.0</td><td>0.0</td><td>0.0</td><td>0.0</td><td>2154.371145166594</td></tr>\n",
       "<tr><td>sv3</td><td>bright</td><td>25915</td><td>39627733927465411</td><td>0.2561017899370665</td><td>10.7787485</td><td>22.54565</td><td>0.0010014608 .. 0.0</td><td>0.0</td><td>0.0</td><td>0.0</td><td>0.0</td><td>0.0</td><td>0.0</td><td>0.0</td><td>0.0</td><td>0.0</td><td>0.0</td><td>0.0</td><td>0.0</td><td>0.0</td><td>904.0705074437692</td></tr>\n",
       "<tr><td>...</td><td>...</td><td>...</td><td>...</td><td>...</td><td>...</td><td>...</td><td>...</td><td>...</td><td>...</td><td>...</td><td>...</td><td>...</td><td>...</td><td>...</td><td>...</td><td>...</td><td>...</td><td>...</td><td>...</td><td>...</td><td>...</td></tr>\n",
       "<tr><td>sv3</td><td>bright</td><td>16043</td><td>39633470518987424</td><td>0.19826305626646795</td><td>10.563939</td><td>22.380001</td><td>0.00034632205 .. 0.0</td><td>0.0</td><td>0.0</td><td>0.0</td><td>0.0</td><td>0.0</td><td>0.0</td><td>0.0</td><td>0.0</td><td>0.0</td><td>0.0</td><td>0.0</td><td>0.0</td><td>0.0</td><td>677.8831649018074</td></tr>\n",
       "<tr><td>sv3</td><td>bright</td><td>16043</td><td>39633470518987433</td><td>0.3050839503605498</td><td>10.992572</td><td>26.586905</td><td>0.0 .. 0.0</td><td>0.0</td><td>0.0</td><td>0.0</td><td>0.0</td><td>0.0</td><td>0.0</td><td>0.0</td><td>0.0</td><td>0.0</td><td>0.0</td><td>0.0</td><td>0.0</td><td>0.0</td><td>1104.4599753752532</td></tr>\n",
       "<tr><td>sv3</td><td>bright</td><td>16043</td><td>39633470518987867</td><td>0.28651784528937274</td><td>10.637632</td><td>14.764016</td><td>0.0 .. 0.0</td><td>0.0</td><td>0.0</td><td>0.0</td><td>0.0</td><td>0.0</td><td>0.0</td><td>0.0</td><td>0.0</td><td>0.0</td><td>0.0</td><td>7.0589857</td><td>0.0</td><td>0.0</td><td>1027.5861375909888</td></tr>\n",
       "<tr><td>sv3</td><td>bright</td><td>16043</td><td>39633470518987997</td><td>0.16077460394764242</td><td>9.884134</td><td>12.51071</td><td>0.0003826966 .. 0.0</td><td>0.0</td><td>0.0</td><td>0.0</td><td>0.0</td><td>0.0</td><td>0.0</td><td>0.0</td><td>12.020231</td><td>0.0</td><td>0.0</td><td>46.203037</td><td>15.392472</td><td>6.7643123</td><td>537.690339818844</td></tr>\n",
       "<tr><td>sv3</td><td>bright</td><td>16043</td><td>39633470523179098</td><td>0.4684250457368273</td><td>11.112396</td><td>10.879236</td><td>0.0028714507 .. 0.0</td><td>0.0</td><td>0.0</td><td>0.0</td><td>0.0</td><td>0.0</td><td>0.0</td><td>0.0</td><td>0.0</td><td>0.0</td><td>0.0</td><td>60.871944</td><td>0.0</td><td>0.0</td><td>1824.9927401863351</td></tr>\n",
       "<tr><td>sv3</td><td>bright</td><td>16043</td><td>39633470523179615</td><td>0.05478675580682722</td><td>8.221621</td><td>9.621923</td><td>0.0 .. 0.0</td><td>0.0</td><td>0.0</td><td>0.0</td><td>0.0</td><td>0.0</td><td>0.0</td><td>0.0</td><td>9.94414</td><td>0.0</td><td>20.532122</td><td>33.569942</td><td>6.614301</td><td>0.0</td><td>170.97853057294392</td></tr>\n",
       "<tr><td>sv3</td><td>bright</td><td>16043</td><td>39633470523180407</td><td>0.24933800375817844</td><td>11.57018</td><td>78.47367</td><td>0.004172706 .. 0.0</td><td>0.0</td><td>0.0</td><td>0.0</td><td>0.0</td><td>0.0</td><td>0.0</td><td>0.0</td><td>0.0</td><td>0.0</td><td>0.0</td><td>6.458909</td><td>0.0</td><td>0.0</td><td>877.0224844249416</td></tr>\n",
       "<tr><td>sv3</td><td>bright</td><td>16043</td><td>39633470523180473</td><td>0.29847336214951736</td><td>10.59226</td><td>16.229433</td><td>0.0 .. 0.0</td><td>0.0</td><td>0.0</td><td>0.0</td><td>0.0</td><td>0.0</td><td>0.0</td><td>0.0</td><td>0.0</td><td>0.0</td><td>0.0</td><td>0.0</td><td>0.0</td><td>0.0</td><td>1076.96226006904</td></tr>\n",
       "<tr><td>sv3</td><td>bright</td><td>16043</td><td>39633470523181032</td><td>0.234161228091825</td><td>10.94157</td><td>36.710777</td><td>0.00044467408 .. 0.0</td><td>0.0</td><td>0.0</td><td>0.0</td><td>0.0</td><td>0.0</td><td>0.0</td><td>0.0</td><td>0.0</td><td>0.0</td><td>0.0</td><td>0.0</td><td>0.0</td><td>0.0</td><td>816.8983095066571</td></tr>\n",
       "<tr><td>sv3</td><td>bright</td><td>16043</td><td>39633470523181151</td><td>0.17557472708319477</td><td>10.257184</td><td>24.637394</td><td>0.0014962318 .. 0.0</td><td>0.0</td><td>0.0</td><td>0.0</td><td>0.0</td><td>0.0</td><td>0.0</td><td>0.0</td><td>21.917995</td><td>0.0</td><td>0.0</td><td>99.78081</td><td>15.880311</td><td>14.259641</td><td>592.4145019046274</td></tr>\n",
       "</table></div>"
      ],
      "text/plain": [
       "<Table length=239132>\n",
       "SURVEY PROGRAM HEALPIX ... SII_6716_FLUX SII_6731_FLUX        DLUM       \n",
       " str3    str6   int32  ...    float32       float32         float64      \n",
       "------ ------- ------- ... ------------- ------------- ------------------\n",
       "   sv3  bright   25915 ...     17.749792     11.968279  729.0171449989449\n",
       "   sv3  bright   25914 ...      9.967945           0.0  716.3537875485354\n",
       "   sv3  bright   25915 ...     19.757685     13.472651  973.0445379983363\n",
       "   sv3  bright   25915 ...           0.0           0.0  627.4557562989022\n",
       "   sv3  bright   25915 ...           0.0           0.0  630.3577046450698\n",
       "   sv3  bright   25915 ...           0.0           0.0   1134.24851716162\n",
       "   sv3  bright   25915 ...     15.267055     10.992665 169.38671998440387\n",
       "   sv3  bright   25915 ...           0.0           0.0  944.8804157147033\n",
       "   sv3  bright   25915 ...           0.0           0.0  2154.371145166594\n",
       "   sv3  bright   25915 ...           0.0           0.0  904.0705074437692\n",
       "   ...     ...     ... ...           ...           ...                ...\n",
       "   sv3  bright   16043 ...           0.0           0.0  677.8831649018074\n",
       "   sv3  bright   16043 ...           0.0           0.0 1104.4599753752532\n",
       "   sv3  bright   16043 ...           0.0           0.0 1027.5861375909888\n",
       "   sv3  bright   16043 ...     15.392472     6.7643123   537.690339818844\n",
       "   sv3  bright   16043 ...           0.0           0.0 1824.9927401863351\n",
       "   sv3  bright   16043 ...      6.614301           0.0 170.97853057294392\n",
       "   sv3  bright   16043 ...           0.0           0.0  877.0224844249416\n",
       "   sv3  bright   16043 ...           0.0           0.0   1076.96226006904\n",
       "   sv3  bright   16043 ...           0.0           0.0  816.8983095066571\n",
       "   sv3  bright   16043 ...     15.880311     14.259641  592.4145019046274"
      ]
     },
     "execution_count": 41,
     "metadata": {},
     "output_type": "execute_result"
    }
   ],
   "source": [
    "data = read_data()\n",
    "data"
   ]
  },
  {
   "cell_type": "code",
   "execution_count": 65,
   "id": "e2f33584-5b5b-4dac-8ee6-57793ef9a38a",
   "metadata": {
    "tags": []
   },
   "outputs": [
    {
     "data": {
      "text/html": [
       "<i>Row index=27</i>\n",
       "<table id=\"table139663993860400\">\n",
       "<thead><tr><th>LYALPHA_FLUX</th><th>MGII_2796_FLUX</th><th>MGII_2803_FLUX</th><th>OII_3726_FLUX</th><th>OII_3729_FLUX</th><th>NEIII_3869_FLUX</th><th>HGAMMA_FLUX</th><th>HBETA_FLUX</th><th>OIII_4959_FLUX</th><th>OIII_5007_FLUX</th><th>HALPHA_FLUX</th><th>SII_6716_FLUX</th><th>SII_6731_FLUX</th></tr></thead>\n",
       "<thead><tr><th>float32</th><th>float32</th><th>float32</th><th>float32</th><th>float32</th><th>float32</th><th>float32</th><th>float32</th><th>float32</th><th>float32</th><th>float32</th><th>float32</th><th>float32</th></tr></thead>\n",
       "<tr><td>0.0</td><td>0.0</td><td>0.0</td><td>17.351469</td><td>22.676262</td><td>0.0</td><td>11.105587</td><td>23.897589</td><td>0.0</td><td>11.7165985</td><td>0.0</td><td>0.0</td><td>0.0</td></tr>\n",
       "</table>"
      ],
      "text/plain": [
       "<Row index=27>\n",
       "LYALPHA_FLUX MGII_2796_FLUX MGII_2803_FLUX OII_3726_FLUX OII_3729_FLUX NEIII_3869_FLUX HGAMMA_FLUX HBETA_FLUX OIII_4959_FLUX OIII_5007_FLUX HALPHA_FLUX SII_6716_FLUX SII_6731_FLUX\n",
       "  float32       float32        float32        float32       float32        float32       float32    float32      float32        float32       float32      float32       float32   \n",
       "------------ -------------- -------------- ------------- ------------- --------------- ----------- ---------- -------------- -------------- ----------- ------------- -------------\n",
       "         0.0            0.0            0.0     17.351469     22.676262             0.0   11.105587  23.897589            0.0     11.7165985         0.0           0.0           0.0"
      ]
     },
     "execution_count": 65,
     "metadata": {},
     "output_type": "execute_result"
    }
   ],
   "source": [
    "I = np.where((data['OIII_5007_FLUX'] > 0) * (data['HBETA_FLUX'] > 0) * (data['HALPHA_FLUX'] == 0))[0][0]\n",
    "data[I][LINEFLUXCOLS]"
   ]
  },
  {
   "cell_type": "code",
   "execution_count": 74,
   "id": "5b17fec7-77d6-45a5-a0ac-b8c4b8e47535",
   "metadata": {
    "tags": []
   },
   "outputs": [
    {
     "name": "stdout",
     "output_type": "stream",
     "text": [
      "lyalpha     0.0000   100.9566\n",
      "mgii_2796   0.0000   1.5991\n",
      "mgii_2803   0.0000   0.8335\n",
      "oii_3726    17.3515   23.1176\n",
      "oii_3729    22.6763   31.2448\n",
      "neiii_3869  0.0000   10.9369\n",
      "hgamma      11.1056   29.4757\n",
      "hbeta       23.8976   71.9178\n",
      "oiii_4959   0.0000   54.4178\n",
      "oiii_5007   11.7166   165.4571\n",
      "halpha      0.0000   288.1390\n",
      "sii_6716    0.0000   15.3918\n",
      "sii_6731    0.0000   11.9354\n"
     ]
    }
   ],
   "source": [
    "def get_template_linefluxes(data, MASSNORM=1e10):\n",
    "    redshift = data['Z']\n",
    "    dlum = data['DLUM']\n",
    "\n",
    "    T = FLUXNORM * MASSNORM * (10. / (1e6 * dlum))**2 / (1. + redshift)\n",
    "    linefluxes = data['COEFF'].dot(templatecache['linefluxes'][template_lineindex, :].T) * T\n",
    "    \n",
    "    return linefluxes\n",
    "    \n",
    "linefluxes = data[LINEFLUXCOLS][I]\n",
    "template_linefluxes = get_template_linefluxes(data[I])\n",
    "    \n",
    "for emline, lineflux, template_lineflux in zip(emlines, linefluxes, template_linefluxes):\n",
    "    print(f'{emline[\"name\"]:10s}  {lineflux:.4f}   {template_lineflux:.4f}')"
   ]
  },
  {
   "cell_type": "code",
   "execution_count": null,
   "id": "302c084d-b423-462c-872b-e76fb6ccf3fe",
   "metadata": {},
   "outputs": [],
   "source": [
    "stop"
   ]
  },
  {
   "cell_type": "code",
   "execution_count": 30,
   "id": "f7c728c3-ab3f-4582-9c0f-0ca076a78db6",
   "metadata": {
    "tags": []
   },
   "outputs": [
    {
     "data": {
      "text/plain": [
       "'HBETA_FLUX'"
      ]
     },
     "execution_count": 30,
     "metadata": {},
     "output_type": "execute_result"
    }
   ],
   "source": [
    "LINEFLUXCOLS[7]"
   ]
  },
  {
   "cell_type": "code",
   "execution_count": 33,
   "id": "2d00c2e8-962b-442f-bb2b-1cd1996e1c31",
   "metadata": {
    "tags": []
   },
   "outputs": [
    {
     "data": {
      "text/plain": [
       "<matplotlib.collections.PathCollection at 0x7f0611d75990>"
      ]
     },
     "execution_count": 33,
     "metadata": {},
     "output_type": "execute_result"
    },
    {
     "data": {
      "image/png": "[encoded data removed]",
      "text/plain": [
       "<Figure size 640x480 with 1 Axes>"
      ]
     },
     "metadata": {},
     "output_type": "display_data"
    }
   ],
   "source": [
    "I = (data[LINEFLUXCOLS[9]] > 0) * (data[LINEFLUXCOLS[7]] > 0)\n",
    "plt.scatter(np.log10(data[LINEFLUXCOLS[9]][I] / data['FLUX_SYNTH_PHOTMODEL_R'][I]), \n",
    "            np.log10(data[LINEFLUXCOLS[7]][I] / data['FLUX_SYNTH_PHOTMODEL_R'][I]), s=1, alpha=0.5)"
   ]
  },
  {
   "cell_type": "code",
   "execution_count": 24,
   "id": "0c567f5c-fe30-4334-8941-3c19beb74b78",
   "metadata": {
    "tags": []
   },
   "outputs": [
    {
     "data": {
      "image/png": "[encoded data removed]",
      "text/plain": [
       "<Figure size 640x480 with 1 Axes>"
      ]
     },
     "metadata": {},
     "output_type": "display_data"
    }
   ],
   "source": [
    "I = (data[LINEFLUXCOLS[9]] > 0)\n",
    "_ = plt.hist(np.log10(data[LINEFLUXCOLS[9]][I] / data['FLUX_SYNTH_PHOTMODEL_R'][I]), bins=100)"
   ]
  },
  {
   "cell_type": "code",
   "execution_count": null,
   "id": "eccc3a23-99fc-4d43-826d-6a955bf32bf7",
   "metadata": {},
   "outputs": [],
   "source": []
  }
 ],
 "metadata": {
  "kernelspec": {
   "display_name": "FastSpecFit",
   "language": "python",
   "name": "fastspecfit"
  },
  "language_info": {
   "codemirror_mode": {
    "name": "ipython",
    "version": 3
   },
   "file_extension": ".py",
   "mimetype": "text/x-python",
   "name": "python",
   "nbconvert_exporter": "python",
   "pygments_lexer": "ipython3",
   "version": "3.10.8"
  }
 },
 "nbformat": 4,
 "nbformat_minor": 5
}
