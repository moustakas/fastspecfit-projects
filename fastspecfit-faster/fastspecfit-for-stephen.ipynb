{
 "cells": [
  {
   "cell_type": "markdown",
   "id": "a9998e93-47c1-47f0-829c-73f70e59caab",
   "metadata": {},
   "source": [
    "## Isolating the FastSpecFit fitting engine\n",
    "\n",
    "This notebook basically breaks down the tasks in `fastspecfit.fastspec` so that the parallelized fitting engine, `fastspecfit.fastspec_one` can be called separately / independently."
   ]
  },
  {
   "cell_type": "code",
   "execution_count": 1,
   "id": "ba7f6010-154e-4b05-972f-976cb5cd396d",
   "metadata": {},
   "outputs": [],
   "source": [
    "import os\n",
    "import numpy as np\n",
    "from astropy.table import vstack\n",
    "from desispec.io import findfile"
   ]
  },
  {
   "cell_type": "code",
   "execution_count": 2,
   "id": "2fab59f6-9059-4829-8ab5-064d7e4f9e80",
   "metadata": {},
   "outputs": [],
   "source": [
    "from fastspecfit.singlecopy import sc_data\n",
    "from fastspecfit.fastspecfit import fastspec_one\n",
    "from fastspecfit.io import (DESISpectra, get_output_dtype, create_output_meta,\n",
    "                            create_output_table, write_fastspecfit)"
   ]
  },
  {
   "cell_type": "code",
   "execution_count": 3,
   "id": "fd304460-0354-404c-8e4d-06b25b41b9bf",
   "metadata": {},
   "outputs": [
    {
     "data": {
      "text/plain": [
       "'/global/cfs/cdirs/desi/spectro/redux/loa/healpix/main/dark/22/2230/redrock-main-dark-2230.fits'"
      ]
     },
     "execution_count": 3,
     "metadata": {},
     "output_type": "execute_result"
    }
   ],
   "source": [
    "specprod = 'loa'\n",
    "survey, program, healpix = 'main', 'dark', 2230\n",
    "\n",
    "redrockfile = findfile('redrock', survey=survey, faprogram=program, healpix=healpix, groupname='healpix', \n",
    "                       specprod_dir=os.path.join(os.getenv('DESI_SPECTRO_REDUX'), specprod))\n",
    "redrockfile"
   ]
  },
  {
   "cell_type": "markdown",
   "id": "83a49dfb-1558-4803-a26a-7777feae18e5",
   "metadata": {},
   "source": [
    "#### Location and filename for outputs"
   ]
  },
  {
   "cell_type": "code",
   "execution_count": 4,
   "id": "c5668325-f64f-4073-af15-aa013b923824",
   "metadata": {},
   "outputs": [
    {
     "data": {
      "text/plain": [
       "'/pscratch/sd/i/ioannis/fastspec-main-dark-2230.fits'"
      ]
     },
     "execution_count": 4,
     "metadata": {},
     "output_type": "execute_result"
    }
   ],
   "source": [
    "outdir = os.getenv('PSCRATCH')\n",
    "outfile = os.path.join(outdir, f'fastspec-{survey}-{program}-{healpix}.fits')\n",
    "outfile"
   ]
  },
  {
   "cell_type": "markdown",
   "id": "c9f33074-cf40-478a-8dc4-b2dc45be7a06",
   "metadata": {},
   "source": [
    "#### Initialize / read the templates, emission-line table, photometry metadata, cosmology, and IGM tables just once."
   ]
  },
  {
   "cell_type": "code",
   "execution_count": 5,
   "id": "26639cd4-b420-4277-ae08-6301acd42050",
   "metadata": {},
   "outputs": [
    {
     "name": "stdout",
     "output_type": "stream",
     "text": [
      "DEBUG:singlecopy.py:47:initialize: Cached stellar templates /global/cfs/cdirs/desi/external/templates/fastspecfit/2.0.0/ftemplates-chabrier-2.0.0.fits\n",
      "DEBUG:singlecopy.py:51:initialize: Cached emission-line table /global/common/software/desi/perlmutter/desiconda/20240425-2.2.0/code/fastspecfit/main/py/fastspecfit/data/emlines.ecsv\n",
      "DEBUG:singlecopy.py:56:initialize: Cached photometric filters and parameters /global/common/software/desi/perlmutter/desiconda/20240425-2.2.0/code/fastspecfit/main/py/fastspecfit/data/legacysurvey-dr9.yaml\n",
      "DEBUG:singlecopy.py:60:initialize: Cached cosmology table /global/common/software/desi/perlmutter/desiconda/20240425-2.2.0/code/fastspecfit/main/py/fastspecfit/data/desi_fiducial_cosmology.dat\n",
      "DEBUG:singlecopy.py:64:initialize: Cached Inoue+2014 IGM attenuation parameters.\n"
     ]
    }
   ],
   "source": [
    "sc_data.initialize(log_verbose=True)"
   ]
  },
  {
   "cell_type": "markdown",
   "id": "fca7cc18-9503-481b-94cb-61f5b9189e0c",
   "metadata": {},
   "source": [
    "#### Read the spectra and metadata for the given healpixel\n",
    "\n",
    "The `gather_metadata` method expects a list of redrockfiles (one per healpixels) and returns `data`, a list of dictionaries (one per healpixel) which hold the spectra and a few other quantities that we only want to compute once. It also returns `meta`, an astropy table (stacked over all input healpixels) which will be written out as the `METADATA` HDU.\n",
    "\n",
    "NB: Set `ntargets=None` to process the whole healpixel."
   ]
  },
  {
   "cell_type": "code",
   "execution_count": 6,
   "id": "e26b883a-cf21-46f7-8194-debf8c77f06a",
   "metadata": {},
   "outputs": [],
   "source": [
    "ntargets = 2"
   ]
  },
  {
   "cell_type": "code",
   "execution_count": 7,
   "id": "a478eb40-f6e3-4306-9884-36d8b2347ec2",
   "metadata": {},
   "outputs": [
    {
     "name": "stdout",
     "output_type": "stream",
     "text": [
      "INFO:io.py:676:gather_metadata: specprod=loa, coadd_type=healpix, survey=main, program=dark, healpix=2230\n",
      "INFO:io.py:1056:read: Reading 2 spectra from /global/cfs/cdirs/desi/spectro/redux/loa/healpix/main/dark/22/2230/coadd-main-dark-2230.fits\n"
     ]
    }
   ],
   "source": [
    "Spec = DESISpectra(phot=sc_data.photometry, cosmo=sc_data.cosmology)\n",
    "Spec.gather_metadata(np.atleast_1d(redrockfile), ntargets=ntargets)\n",
    "data, meta = Spec.read(sc_data.photometry)"
   ]
  },
  {
   "cell_type": "code",
   "execution_count": 8,
   "id": "ba164be7-2688-4a72-b326-f256ba9e2232",
   "metadata": {},
   "outputs": [
    {
     "name": "stdout",
     "output_type": "stream",
     "text": [
      "dict_keys(['uniqueid', 'redshift', 'photsys', 'cameras', 'dluminosity', 'dmodulus', 'tuniv', 'ebv', 'wave0', 'flux0', 'ivar0', 'mask0', 'res0', 'coadd_wave', 'coadd_flux', 'coadd_ivar', 'coadd_res', 'mw_transmission_fiberflux'])\n"
     ]
    }
   ],
   "source": [
    "print(data[0].keys())"
   ]
  },
  {
   "cell_type": "code",
   "execution_count": 9,
   "id": "0ba66e54-718e-473c-9406-e09342c0fe2f",
   "metadata": {},
   "outputs": [
    {
     "name": "stdout",
     "output_type": "stream",
     "text": [
      "2 ['Z', 'ZWARN', 'SPECTYPE', 'SUBTYPE', 'DELTACHI2', 'Z_RR', 'ZWARN_RR', 'TARGETID', 'COADD_FIBERSTATUS', 'TARGET_RA', 'TARGET_DEC', 'OBJTYPE', 'RELEASE', 'BRICKNAME', 'BRICKID', 'BRICK_OBJID', 'PHOTSYS', 'DESI_TARGET', 'BGS_TARGET', 'MWS_TARGET', 'SCND_TARGET', 'TSNR2_BGS', 'TSNR2_ELG', 'TSNR2_LRG', 'TSNR2_LYA', 'TSNR2_QSO', 'TILEID_LIST', 'SURVEY', 'PROGRAM', 'HEALPIX', 'DEC', 'FIBERFLUX_G', 'FIBERFLUX_R', 'FIBERFLUX_Z', 'FIBERTOTFLUX_G', 'FIBERTOTFLUX_R', 'FIBERTOTFLUX_Z', 'FLUX_G', 'FLUX_IVAR_G', 'FLUX_IVAR_R', 'FLUX_IVAR_W1', 'FLUX_IVAR_W2', 'FLUX_IVAR_W3', 'FLUX_IVAR_W4', 'FLUX_IVAR_Z', 'FLUX_R', 'FLUX_W1', 'FLUX_W2', 'FLUX_W3', 'FLUX_W4', 'FLUX_Z', 'LS_ID', 'RA', 'EBV', 'MW_TRANSMISSION_G', 'MW_TRANSMISSION_R', 'MW_TRANSMISSION_Z', 'MW_TRANSMISSION_W1', 'MW_TRANSMISSION_W2', 'MW_TRANSMISSION_W3', 'MW_TRANSMISSION_W4']\n"
     ]
    }
   ],
   "source": [
    "print(len(meta), meta.colnames)"
   ]
  },
  {
   "cell_type": "markdown",
   "id": "647e8fa0-f7b5-49f1-821b-68a60baf9ad7",
   "metadata": {},
   "source": [
    "#### Prepare the output objects.\n",
    "\n",
    "The data model is documented at https://fastspecfit.readthedocs.io/en/latest/fastspec.html"
   ]
  },
  {
   "cell_type": "code",
   "execution_count": 10,
   "id": "f5fdd1e3-1ee9-49a5-9322-d1e6d4052457",
   "metadata": {},
   "outputs": [],
   "source": [
    "ntargets = len(meta)\n",
    "ncoeff = sc_data.templates.ntemplates\n",
    "cameras = data[0]['cameras']\n",
    "\n",
    "fastfit_dtype, fastfit_units = get_output_dtype(\n",
    "    Spec.specprod, phot=sc_data.photometry,\n",
    "    linetable=sc_data.emlines.table, ncoeff=ncoeff,\n",
    "    cameras=cameras)\n",
    "\n",
    "specphot_dtype, specphot_units = get_output_dtype(\n",
    "    Spec.specprod, phot=sc_data.photometry,\n",
    "    linetable=sc_data.emlines.table, ncoeff=ncoeff,\n",
    "    cameras=cameras, specphot=True)"
   ]
  },
  {
   "cell_type": "markdown",
   "id": "ca81b989-0091-42b3-9420-b8788d9c30a6",
   "metadata": {},
   "source": [
    "#### Initialize the random-number generation so that Monte Carlo realizations are fully reproducible."
   ]
  },
  {
   "cell_type": "code",
   "execution_count": 11,
   "id": "1fa148e9-617d-4cd5-b708-8e44aea4617b",
   "metadata": {},
   "outputs": [],
   "source": [
    "seed = 42\n",
    "rng = np.random.default_rng(seed=seed)\n",
    "seeds = rng.integers(2**32, size=ntargets, dtype=np.int64)"
   ]
  },
  {
   "cell_type": "markdown",
   "id": "329c09c4-84bf-4e16-8230-dafefc3abe65",
   "metadata": {},
   "source": [
    "#### Fit serially."
   ]
  },
  {
   "cell_type": "code",
   "execution_count": 12,
   "id": "2e257aa5-447d-4045-bde5-073901cf9efc",
   "metadata": {},
   "outputs": [
    {
     "name": "stdout",
     "output_type": "stream",
     "text": [
      "INFO:fastspecfit.py:92:fastspec_one: Continuum- and emission-line fitting object 0 [targetid 39628530157359087, seed 383329928, z=0.634246].\n",
      "INFO:continuum.py:1242:continuum_fastspec: Median spectral S/N_b=0.56 S/N_r=3.81 S/N_z=6.08\n",
      "INFO:continuum.py:1143:vdisp_by_chi2scan: Initial velocity dispersion fit succeeded: delta-chi2=181>25, vdisp_init=288 km/s\n",
      "INFO:continuum.py:1433:continuum_fastspec: Median aperture correction 1.245 [1.058-1.263].\n",
      "INFO:continuum.py:1630:continuum_specfit: Smooth continuum correction: b=-1.282% r=0.842% z=0.787%\n",
      "INFO:continuum.py:1835:continuum_specfit: vdisp=286.99+/-32.22 km/s log(M/Msun)=10.96+/-0.01 tau(V)=0.08+/-0.04 Age=6.28+/-0.01 Gyr SFR=0.00+/-0.00 Msun/yr Z/Zsun=0.00\n",
      "INFO:emlines.py:1591:emline_specfit: delta(v) UV=249.4 km/s Balmer broad=0.0 km/s narrow=-173.5 km/s\n",
      "INFO:emlines.py:1601:emline_specfit: sigma UV=3051 km/s Balmer broad=0 km/s narrow=58 km/s\n",
      "INFO:emlines.py:1632:emline_specfit: Dn(4000)=1.730 in the emission-line subtracted spectrum.\n",
      "INFO:fastspecfit.py:92:fastspec_one: Continuum- and emission-line fitting object 1 [targetid 39628535270211854, seed 3324115917, z=1.266419].\n",
      "INFO:continuum.py:1242:continuum_fastspec: Median spectral S/N_b=0.25 S/N_r=0.41 S/N_z=0.46\n",
      "INFO:continuum.py:1433:continuum_fastspec: Median aperture correction 1.406 [1.311-1.597].\n",
      "INFO:continuum.py:1630:continuum_specfit: Smooth continuum correction: b=0.022% r=2.843% z=2.790%\n",
      "INFO:continuum.py:1835:continuum_specfit: vdisp=250.00 km/s log(M/Msun)=9.31+/-0.05 tau(V)=0.50+/-0.17 Age=0.06+/-0.00 Gyr SFR=4.66+/-4.03 Msun/yr Z/Zsun=0.00\n",
      "INFO:emlines.py:1542:emline_specfit: Skipping broad-line fitting (no broad Balmer lines in the spectral range).\n",
      "INFO:emlines.py:1591:emline_specfit: delta(v) UV=456.4+/-1426.3 km/s Balmer broad=0.0 km/s narrow=-9.7+/-22.3 km/s\n",
      "INFO:emlines.py:1601:emline_specfit: sigma UV=2508+/-971 km/s Balmer broad=0 km/s narrow=51+/-14 km/s\n",
      "INFO:emlines.py:1632:emline_specfit: Dn(4000)=1.105 in the emission-line subtracted spectrum.\n"
     ]
    }
   ],
   "source": [
    "out = []\n",
    "for iobj in range(ntargets):\n",
    "    out.append(fastspec_one(iobj, data[iobj], meta[iobj], fastfit_dtype, specphot_dtype, seed=seeds[iobj]))\n",
    "out = list(zip(*out))"
   ]
  },
  {
   "cell_type": "markdown",
   "id": "920f9f37-ab25-4dc6-9595-cd40c04de074",
   "metadata": {},
   "source": [
    "#### Parse the results and write out."
   ]
  },
  {
   "cell_type": "code",
   "execution_count": 13,
   "id": "7747e6b5-88c1-41c3-8f14-13b4158d644e",
   "metadata": {},
   "outputs": [
    {
     "name": "stdout",
     "output_type": "stream",
     "text": [
      "INFO:io.py:1667:write: Writing 2 objects to /pscratch/sd/i/ioannis/fastspec-main-dark-2230.fits\n"
     ]
    }
   ],
   "source": [
    "outmeta = create_output_meta(vstack(out[0]), phot=sc_data.photometry)\n",
    "specphot = create_output_table(out[1], outmeta, specphot_units)\n",
    "fastfit = create_output_table(out[2], outmeta, fastfit_units)\n",
    "modelspectra = vstack(out[3], join_type='exact', metadata_conflicts='error')\n",
    "\n",
    "write_fastspecfit(\n",
    "    outmeta, specphot, fastfit, modelspectra=modelspectra,\n",
    "    outfile=outfile, specprod=Spec.specprod, coadd_type=Spec.coadd_type,\n",
    "    fphotofile=sc_data.photometry.fphotofile, template_file=sc_data.templates.file,\n",
    "    emlinesfile=sc_data.emlines.file, seed=seed)"
   ]
  },
  {
   "cell_type": "code",
   "execution_count": null,
   "id": "e1673be5-6dcd-47eb-bfe5-b55250714182",
   "metadata": {},
   "outputs": [],
   "source": []
  }
 ],
 "metadata": {
  "kernelspec": {
   "display_name": "FastSpecFit Main",
   "language": "python",
   "name": "fastspecfit-main"
  },
  "language_info": {
   "codemirror_mode": {
    "name": "ipython",
    "version": 3
   },
   "file_extension": ".py",
   "mimetype": "text/x-python",
   "name": "python",
   "nbconvert_exporter": "python",
   "pygments_lexer": "ipython3",
   "version": "3.10.14"
  }
 },
 "nbformat": 4,
 "nbformat_minor": 5
}
